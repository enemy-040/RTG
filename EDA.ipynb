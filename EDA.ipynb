{
 "cells": [
  {
   "cell_type": "code",
   "execution_count": 2,
   "metadata": {
    "collapsed": true
   },
   "outputs": [],
   "source": [
    "import pandas as pd\n",
    "import numpy as np\n",
    "from tqdm import tqdm\n",
    "from typing import Dict"
   ]
  },
  {
   "cell_type": "code",
   "execution_count": 15,
   "outputs": [],
   "source": [
    "books = pd.read_json(\"data/books.json\").values"
   ],
   "metadata": {
    "collapsed": false
   }
  },
  {
   "cell_type": "code",
   "execution_count": 17,
   "outputs": [
    {
     "data": {
      "text/plain": "numpy.ndarray"
     },
     "execution_count": 17,
     "metadata": {},
     "output_type": "execute_result"
    }
   ],
   "source": [
    "type(books)"
   ],
   "metadata": {
    "collapsed": false
   }
  },
  {
   "cell_type": "code",
   "execution_count": null,
   "outputs": [],
   "source": [
    "def getPriceVolArr(book: Dict)-> np.array():\n",
    "    askVolPriceProd = np.array()\n",
    "    bidVolPriceProd = np.array()\n",
    "    for it in range(book[\"ask_volumes\"]):\n",
    "        askVolPriceProd = np.concatenate(\n",
    "            (askVolPriceProd,\n",
    "             [book[\"ask_prices\"][it] for t in book[\"ask_volumes\"][it]]),\n",
    "            axis=None\n",
    "        )\n",
    "    for jit in range(book[\"bid_volumes\"]):\n",
    "        bidVolPriceProd = np.concatenate(\n",
    "            (bidVolPriceProd,\n",
    "            [book[\"bid_prices\"][jit] for t in book[\"bid_volumes\"][it]]),\n",
    "            axis=None\n",
    "        )\n",
    "    return askVolPriceProd, bidVolPriceProd\n"
   ],
   "metadata": {
    "collapsed": false
   }
  },
  {
   "cell_type": "code",
   "execution_count": 12,
   "outputs": [
    {
     "name": "stdout",
     "output_type": "stream",
     "text": [
      "{'ask_prices': [], 'ask_volumes': [], 'bid_prices': [], 'bid_volumes': []}\n"
     ]
    }
   ],
   "source": [
    "ask_Var = np.empty(len(books))\n",
    "bid_Var = np.empty(len(books))\n",
    "ask_mn = np.empty(len(books))\n",
    "bid_mn = np.empty(len(books))\n",
    "for i, book in tqdm(enumerate(books)):\n",
    "    askVPP, bidVPP = getPriceVolArr(book)\n",
    "    ask_Var[i] = np.var(askVPP) if len(askVPP) !=0 else 0\n",
    "    ask_mn[i] = np.mean(askVPP) if len(askVPP) !=0 else 0\n",
    "    bid_Var[i] = np.var(bidVPP) if len(bidVPP) !=0 else 0\n",
    "    bid_mn[i] = np.mean(bidVPP) if len(bidVPP) !=0 else 0\n"
   ],
   "metadata": {
    "collapsed": false
   }
  }
 ],
 "metadata": {
  "kernelspec": {
   "display_name": "Python 3",
   "language": "python",
   "name": "python3"
  },
  "language_info": {
   "codemirror_mode": {
    "name": "ipython",
    "version": 2
   },
   "file_extension": ".py",
   "mimetype": "text/x-python",
   "name": "python",
   "nbconvert_exporter": "python",
   "pygments_lexer": "ipython2",
   "version": "2.7.6"
  }
 },
 "nbformat": 4,
 "nbformat_minor": 0
}
