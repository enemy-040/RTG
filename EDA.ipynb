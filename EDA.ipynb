{
 "cells": [
  {
   "cell_type": "code",
   "execution_count": 1,
   "metadata": {
    "collapsed": true
   },
   "outputs": [],
   "source": [
    "import pandas as pd\n",
    "import numpy as np\n",
    "from tqdm import tqdm\n"
   ]
  },
  {
   "cell_type": "code",
   "execution_count": 2,
   "outputs": [],
   "source": [
    "md = pd.read_csv('market_data1.csv')"
   ],
   "metadata": {
    "collapsed": false
   }
  },
  {
   "cell_type": "code",
   "execution_count": 4,
   "outputs": [
    {
     "data": {
      "text/plain": "   Time  Instrument Operation    OrderId Side  Volume   Price Lifespan\n0   0.0           0    Insert  177349435    B  1000.0  1469.0        G\n1   0.0           0    Insert  177349439    A  8000.0  1470.0        G\n2   0.0           0    Insert  177349467    A  3000.0  1472.0        G\n3   0.0           0    Insert  177349475    A  2000.0  1471.0        G\n4   0.0           0    Insert  177349487    A  2000.0  1816.0        G",
      "text/html": "<div>\n<style scoped>\n    .dataframe tbody tr th:only-of-type {\n        vertical-align: middle;\n    }\n\n    .dataframe tbody tr th {\n        vertical-align: top;\n    }\n\n    .dataframe thead th {\n        text-align: right;\n    }\n</style>\n<table border=\"1\" class=\"dataframe\">\n  <thead>\n    <tr style=\"text-align: right;\">\n      <th></th>\n      <th>Time</th>\n      <th>Instrument</th>\n      <th>Operation</th>\n      <th>OrderId</th>\n      <th>Side</th>\n      <th>Volume</th>\n      <th>Price</th>\n      <th>Lifespan</th>\n    </tr>\n  </thead>\n  <tbody>\n    <tr>\n      <th>0</th>\n      <td>0.0</td>\n      <td>0</td>\n      <td>Insert</td>\n      <td>177349435</td>\n      <td>B</td>\n      <td>1000.0</td>\n      <td>1469.0</td>\n      <td>G</td>\n    </tr>\n    <tr>\n      <th>1</th>\n      <td>0.0</td>\n      <td>0</td>\n      <td>Insert</td>\n      <td>177349439</td>\n      <td>A</td>\n      <td>8000.0</td>\n      <td>1470.0</td>\n      <td>G</td>\n    </tr>\n    <tr>\n      <th>2</th>\n      <td>0.0</td>\n      <td>0</td>\n      <td>Insert</td>\n      <td>177349467</td>\n      <td>A</td>\n      <td>3000.0</td>\n      <td>1472.0</td>\n      <td>G</td>\n    </tr>\n    <tr>\n      <th>3</th>\n      <td>0.0</td>\n      <td>0</td>\n      <td>Insert</td>\n      <td>177349475</td>\n      <td>A</td>\n      <td>2000.0</td>\n      <td>1471.0</td>\n      <td>G</td>\n    </tr>\n    <tr>\n      <th>4</th>\n      <td>0.0</td>\n      <td>0</td>\n      <td>Insert</td>\n      <td>177349487</td>\n      <td>A</td>\n      <td>2000.0</td>\n      <td>1816.0</td>\n      <td>G</td>\n    </tr>\n  </tbody>\n</table>\n</div>"
     },
     "execution_count": 4,
     "metadata": {},
     "output_type": "execute_result"
    }
   ],
   "source": [
    "md.head()"
   ],
   "metadata": {
    "collapsed": false
   }
  },
  {
   "cell_type": "code",
   "execution_count": 5,
   "outputs": [
    {
     "data": {
      "text/plain": "     Time  Instrument Operation    OrderId Side  Volume   Price Lifespan\n0     0.0           0    Insert  177349435    B  1000.0  1469.0        G\n1     0.0           0    Insert  177349439    A  8000.0  1470.0        G\n2     0.0           0    Insert  177349467    A  3000.0  1472.0        G\n3     0.0           0    Insert  177349475    A  2000.0  1471.0        G\n4     0.0           0    Insert  177349487    A  2000.0  1816.0        G\n..    ...         ...       ...        ...  ...     ...     ...      ...\n96    0.0           0    Insert  177353403    B  2000.0  1130.0        G\n97    0.0           0    Cancel  177353403  NaN     NaN     NaN        G\n98    0.0           0    Insert  177353407    B  2000.0  1129.0        G\n99    0.0           0    Cancel  177353407  NaN     NaN     NaN        G\n100   0.0           0    Insert  177353423    B  2000.0  1130.0        G\n\n[101 rows x 8 columns]",
      "text/html": "<div>\n<style scoped>\n    .dataframe tbody tr th:only-of-type {\n        vertical-align: middle;\n    }\n\n    .dataframe tbody tr th {\n        vertical-align: top;\n    }\n\n    .dataframe thead th {\n        text-align: right;\n    }\n</style>\n<table border=\"1\" class=\"dataframe\">\n  <thead>\n    <tr style=\"text-align: right;\">\n      <th></th>\n      <th>Time</th>\n      <th>Instrument</th>\n      <th>Operation</th>\n      <th>OrderId</th>\n      <th>Side</th>\n      <th>Volume</th>\n      <th>Price</th>\n      <th>Lifespan</th>\n    </tr>\n  </thead>\n  <tbody>\n    <tr>\n      <th>0</th>\n      <td>0.0</td>\n      <td>0</td>\n      <td>Insert</td>\n      <td>177349435</td>\n      <td>B</td>\n      <td>1000.0</td>\n      <td>1469.0</td>\n      <td>G</td>\n    </tr>\n    <tr>\n      <th>1</th>\n      <td>0.0</td>\n      <td>0</td>\n      <td>Insert</td>\n      <td>177349439</td>\n      <td>A</td>\n      <td>8000.0</td>\n      <td>1470.0</td>\n      <td>G</td>\n    </tr>\n    <tr>\n      <th>2</th>\n      <td>0.0</td>\n      <td>0</td>\n      <td>Insert</td>\n      <td>177349467</td>\n      <td>A</td>\n      <td>3000.0</td>\n      <td>1472.0</td>\n      <td>G</td>\n    </tr>\n    <tr>\n      <th>3</th>\n      <td>0.0</td>\n      <td>0</td>\n      <td>Insert</td>\n      <td>177349475</td>\n      <td>A</td>\n      <td>2000.0</td>\n      <td>1471.0</td>\n      <td>G</td>\n    </tr>\n    <tr>\n      <th>4</th>\n      <td>0.0</td>\n      <td>0</td>\n      <td>Insert</td>\n      <td>177349487</td>\n      <td>A</td>\n      <td>2000.0</td>\n      <td>1816.0</td>\n      <td>G</td>\n    </tr>\n    <tr>\n      <th>...</th>\n      <td>...</td>\n      <td>...</td>\n      <td>...</td>\n      <td>...</td>\n      <td>...</td>\n      <td>...</td>\n      <td>...</td>\n      <td>...</td>\n    </tr>\n    <tr>\n      <th>96</th>\n      <td>0.0</td>\n      <td>0</td>\n      <td>Insert</td>\n      <td>177353403</td>\n      <td>B</td>\n      <td>2000.0</td>\n      <td>1130.0</td>\n      <td>G</td>\n    </tr>\n    <tr>\n      <th>97</th>\n      <td>0.0</td>\n      <td>0</td>\n      <td>Cancel</td>\n      <td>177353403</td>\n      <td>NaN</td>\n      <td>NaN</td>\n      <td>NaN</td>\n      <td>G</td>\n    </tr>\n    <tr>\n      <th>98</th>\n      <td>0.0</td>\n      <td>0</td>\n      <td>Insert</td>\n      <td>177353407</td>\n      <td>B</td>\n      <td>2000.0</td>\n      <td>1129.0</td>\n      <td>G</td>\n    </tr>\n    <tr>\n      <th>99</th>\n      <td>0.0</td>\n      <td>0</td>\n      <td>Cancel</td>\n      <td>177353407</td>\n      <td>NaN</td>\n      <td>NaN</td>\n      <td>NaN</td>\n      <td>G</td>\n    </tr>\n    <tr>\n      <th>100</th>\n      <td>0.0</td>\n      <td>0</td>\n      <td>Insert</td>\n      <td>177353423</td>\n      <td>B</td>\n      <td>2000.0</td>\n      <td>1130.0</td>\n      <td>G</td>\n    </tr>\n  </tbody>\n</table>\n<p>101 rows × 8 columns</p>\n</div>"
     },
     "execution_count": 5,
     "metadata": {},
     "output_type": "execute_result"
    }
   ],
   "source": [
    "snapshot = md[md['Time']==(md['Time'].unique()[0])]\n",
    "snapshot"
   ],
   "metadata": {
    "collapsed": false
   }
  },
  {
   "cell_type": "code",
   "execution_count": 10,
   "outputs": [
    {
     "data": {
      "text/plain": "              Time  Instrument Operation    OrderId Side   Volume  Price  \\\n2318      5.483298           0     Amend  177490955  NaN  -1000.0    NaN   \n8756     17.529436           0     Amend  177827279  NaN  -1000.0    NaN   \n12152    23.291846           0     Amend  177970843  NaN -20000.0    NaN   \n15706    29.474572           0     Amend  178121187  NaN -20000.0    NaN   \n16451    31.080238           0     Amend  178354139  NaN -20000.0    NaN   \n...            ...         ...       ...        ...  ...      ...    ...   \n450596  872.495706           0     Amend  204462787  NaN -20000.0    NaN   \n452096  875.060779           0     Amend  204588539  NaN -20000.0    NaN   \n454195  880.043257           0     Amend  202608203  NaN -20000.0    NaN   \n459599  894.573871           0     Amend  205063587  NaN -20000.0    NaN   \n460620  896.780193           0     Amend  205130367  NaN -20000.0    NaN   \n\n       Lifespan  \n2318          G  \n8756          G  \n12152         G  \n15706         G  \n16451         G  \n...         ...  \n450596        G  \n452096        G  \n454195        G  \n459599        G  \n460620        G  \n\n[134 rows x 8 columns]",
      "text/html": "<div>\n<style scoped>\n    .dataframe tbody tr th:only-of-type {\n        vertical-align: middle;\n    }\n\n    .dataframe tbody tr th {\n        vertical-align: top;\n    }\n\n    .dataframe thead th {\n        text-align: right;\n    }\n</style>\n<table border=\"1\" class=\"dataframe\">\n  <thead>\n    <tr style=\"text-align: right;\">\n      <th></th>\n      <th>Time</th>\n      <th>Instrument</th>\n      <th>Operation</th>\n      <th>OrderId</th>\n      <th>Side</th>\n      <th>Volume</th>\n      <th>Price</th>\n      <th>Lifespan</th>\n    </tr>\n  </thead>\n  <tbody>\n    <tr>\n      <th>2318</th>\n      <td>5.483298</td>\n      <td>0</td>\n      <td>Amend</td>\n      <td>177490955</td>\n      <td>NaN</td>\n      <td>-1000.0</td>\n      <td>NaN</td>\n      <td>G</td>\n    </tr>\n    <tr>\n      <th>8756</th>\n      <td>17.529436</td>\n      <td>0</td>\n      <td>Amend</td>\n      <td>177827279</td>\n      <td>NaN</td>\n      <td>-1000.0</td>\n      <td>NaN</td>\n      <td>G</td>\n    </tr>\n    <tr>\n      <th>12152</th>\n      <td>23.291846</td>\n      <td>0</td>\n      <td>Amend</td>\n      <td>177970843</td>\n      <td>NaN</td>\n      <td>-20000.0</td>\n      <td>NaN</td>\n      <td>G</td>\n    </tr>\n    <tr>\n      <th>15706</th>\n      <td>29.474572</td>\n      <td>0</td>\n      <td>Amend</td>\n      <td>178121187</td>\n      <td>NaN</td>\n      <td>-20000.0</td>\n      <td>NaN</td>\n      <td>G</td>\n    </tr>\n    <tr>\n      <th>16451</th>\n      <td>31.080238</td>\n      <td>0</td>\n      <td>Amend</td>\n      <td>178354139</td>\n      <td>NaN</td>\n      <td>-20000.0</td>\n      <td>NaN</td>\n      <td>G</td>\n    </tr>\n    <tr>\n      <th>...</th>\n      <td>...</td>\n      <td>...</td>\n      <td>...</td>\n      <td>...</td>\n      <td>...</td>\n      <td>...</td>\n      <td>...</td>\n      <td>...</td>\n    </tr>\n    <tr>\n      <th>450596</th>\n      <td>872.495706</td>\n      <td>0</td>\n      <td>Amend</td>\n      <td>204462787</td>\n      <td>NaN</td>\n      <td>-20000.0</td>\n      <td>NaN</td>\n      <td>G</td>\n    </tr>\n    <tr>\n      <th>452096</th>\n      <td>875.060779</td>\n      <td>0</td>\n      <td>Amend</td>\n      <td>204588539</td>\n      <td>NaN</td>\n      <td>-20000.0</td>\n      <td>NaN</td>\n      <td>G</td>\n    </tr>\n    <tr>\n      <th>454195</th>\n      <td>880.043257</td>\n      <td>0</td>\n      <td>Amend</td>\n      <td>202608203</td>\n      <td>NaN</td>\n      <td>-20000.0</td>\n      <td>NaN</td>\n      <td>G</td>\n    </tr>\n    <tr>\n      <th>459599</th>\n      <td>894.573871</td>\n      <td>0</td>\n      <td>Amend</td>\n      <td>205063587</td>\n      <td>NaN</td>\n      <td>-20000.0</td>\n      <td>NaN</td>\n      <td>G</td>\n    </tr>\n    <tr>\n      <th>460620</th>\n      <td>896.780193</td>\n      <td>0</td>\n      <td>Amend</td>\n      <td>205130367</td>\n      <td>NaN</td>\n      <td>-20000.0</td>\n      <td>NaN</td>\n      <td>G</td>\n    </tr>\n  </tbody>\n</table>\n<p>134 rows × 8 columns</p>\n</div>"
     },
     "execution_count": 10,
     "metadata": {},
     "output_type": "execute_result"
    }
   ],
   "source": [
    "md[md[\"Operation\"]== \"Amend\"]"
   ],
   "metadata": {
    "collapsed": false
   }
  },
  {
   "cell_type": "code",
   "execution_count": 4,
   "outputs": [
    {
     "data": {
      "text/plain": "numpy.int64"
     },
     "execution_count": 4,
     "metadata": {},
     "output_type": "execute_result"
    }
   ],
   "source": [
    "type(md[\"OrderId\"][1])"
   ],
   "metadata": {
    "collapsed": false
   }
  },
  {
   "cell_type": "code",
   "execution_count": 79,
   "outputs": [],
   "source": [
    "def prodArr(frame):\n",
    "    volArr = frame['Volume'].values\n",
    "    priceArr = frame['Price'].values\n",
    "    prodArr = np.asarray([priceArr[i]*volArr[i] for i in range(len(frame))])\n",
    "    return prodArr\n",
    "\n",
    "def bookMaker(asksORbids :pd.DataFrame) -> np.ndarray:\n",
    "    volArr = asksORbids['Volume'].values\n",
    "    priceArr = asksORbids['Price'].values\n",
    "    singleBook = np.empty((len(priceArr),2))\n",
    "    for i in range(len(priceArr)):\n",
    "        singleBook[i][0] = volArr[i]\n",
    "        singleBook[i][1] = priceArr[i]\n",
    "\n",
    "    return singleBook\n",
    "\n",
    "def cancelOrders(frame):\n",
    "\n",
    "\n",
    "\n",
    "\n",
    "\n",
    "#not categorized by instrument\n",
    "def orderBookGenerator(df):\n",
    "    timeshots = df['Time'].unique()\n",
    "    orderBook = np.empty((len(timeshots),2)) # [[orderBookAsks 0, orderBooksBids 0], ..., [orderBooksAsks n, orderBooksBids n]]\n",
    "    # orderbook Asks/Bids = [[volume 0, price 0], ..., [volume n, price n]]\n",
    "    initFrame = df[df['Time']== timeshots[0]].dropna()\n",
    "    orderBook[0][0] = bookMaker(initFrame[initFrame['Side'] == 'A'])\n",
    "    orderBook[0][1] = bookMaker(initFrame[initFrame['Side'] == 'B'])\n",
    "\n",
    "\n",
    "\n",
    "    for snapshotIter in tqdm(range(1, len(timeshots))):\n",
    "        timeFrame = df[df['Time']==timeshots[snapshotIter]].dropna()\n",
    "\n",
    "\n",
    "        orderBook[snapshotIter][0] = bookMaker(timeFrame[timeFrame['Side'] == 'A'])\n",
    "        orderBook[snapshotIter][1] = bookMaker(timeFrame[timeFrame['Side'] == 'B'])\n",
    "\n",
    "\n",
    "\n",
    "def sideVar(df):\n",
    "    timeshots = df['Time'].unique()\n",
    "    timeVarBySide = np.empty((len(timeshots), 2)) # [[varAsks 0, varBids 0 ], ..., [varAsks n, varBids n]]\n",
    "    for snapIter in tqdm(range(len(timeshots))):\n",
    "\n",
    "        timeFrame = df[df['Time']==timeshots[snapIter]].dropna()\n",
    "\n",
    "        asksFrame = timeFrame[timeFrame['Side']==\"A\"]\n",
    "        bidsFrame = timeFrame[timeFrame['Side']=='B']\n",
    "\n",
    "        asksLiquid = prodArr(asksFrame)\n",
    "        # print(asksLiquid)\n",
    "        bidsLiquid = prodArr(bidsFrame)\n",
    "\n",
    "        asksVar = np.var(asksLiquid)\n",
    "        bidsVar = np.var(bidsLiquid)\n",
    "\n",
    "        timeVarBySide[snapIter][0] = asksVar\n",
    "        timeVarBySide[snapIter][1] = bidsVar\n",
    "    return timeVarBySide\n",
    "\n",
    "\n",
    "\n",
    "\n"
   ],
   "metadata": {
    "collapsed": false
   }
  },
  {
   "cell_type": "code",
   "execution_count": 80,
   "outputs": [
    {
     "name": "stderr",
     "output_type": "stream",
     "text": [
      "100%|██████████| 1/1 [00:00<00:00, 313.71it/s]\n"
     ]
    },
    {
     "data": {
      "text/plain": "array([[1.00266382e+13, 3.25952208e+12]])"
     },
     "execution_count": 80,
     "metadata": {},
     "output_type": "execute_result"
    }
   ],
   "source": [
    "sideVar(snapshot)"
   ],
   "metadata": {
    "collapsed": false
   }
  },
  {
   "cell_type": "code",
   "execution_count": 85,
   "outputs": [
    {
     "name": "stdout",
     "output_type": "stream",
     "text": [
      "1\n",
      "2\n"
     ]
    }
   ],
   "source": [
    "for i in range(1,3):\n",
    "    print(i)\n",
    "def orderBookGenerator(df):"
   ],
   "metadata": {
    "collapsed": false
   }
  }
 ],
 "metadata": {
  "kernelspec": {
   "display_name": "Python 3",
   "language": "python",
   "name": "python3"
  },
  "language_info": {
   "codemirror_mode": {
    "name": "ipython",
    "version": 2
   },
   "file_extension": ".py",
   "mimetype": "text/x-python",
   "name": "python",
   "nbconvert_exporter": "python",
   "pygments_lexer": "ipython2",
   "version": "2.7.6"
  }
 },
 "nbformat": 4,
 "nbformat_minor": 0
}
